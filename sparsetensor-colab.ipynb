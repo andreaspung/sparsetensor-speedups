{
  "nbformat": 4,
  "nbformat_minor": 0,
  "metadata": {
    "colab": {
      "name": "SparseTensor.ipynb",
      "provenance": []
    },
    "kernelspec": {
      "name": "python3",
      "display_name": "Python 3"
    },
    "language_info": {
      "name": "python"
    },
    "accelerator": "GPU"
  },
  "cells": [
    {
      "cell_type": "markdown",
      "source": [
        "# Examining the Speedup of Using SparseTensor in PyTorch Geometric\n",
        "\n",
        "This notebook is based on the code at https://pytorch-geometric.readthedocs.io/en/latest/notes/sparse_tensor.html\n",
        "\n",
        "## Importing packages"
      ],
      "metadata": {
        "id": "yFSTuxWZJ8z4"
      }
    },
    {
      "cell_type": "code",
      "source": [
        "# Install required packages.\n",
        "!pip install -q torch-scatter -f https://data.pyg.org/whl/torch-1.10.0+cu113.html\n",
        "!pip install -q torch-sparse -f https://data.pyg.org/whl/torch-1.10.0+cu113.html\n",
        "!pip install -q git+https://github.com/pyg-team/pytorch_geometric.git\n",
        "!pip install pytorch_memlab\n",
        "\n",
        "# Helper function for visualization.\n",
        "%matplotlib inline\n",
        "import networkx as nx\n",
        "import matplotlib.pyplot as plt\n",
        "\n",
        "import torch\n",
        "import torch.nn.functional as F\n",
        "\n",
        "from torch_geometric.nn import GCNConv\n",
        "import torch_geometric.transforms as T\n",
        "from torch_geometric.datasets import *\n",
        "from torch_geometric.profile import *\n",
        "\n",
        "import warnings\n",
        "warnings.simplefilter(action='ignore', category=FutureWarning)"
      ],
      "metadata": {
        "colab": {
          "base_uri": "https://localhost:8080/"
        },
        "id": "ofvCDfCp-8aD",
        "outputId": "14207c7d-75b6-4525-acc1-454860b31450"
      },
      "execution_count": 1,
      "outputs": [
        {
          "output_type": "stream",
          "name": "stdout",
          "text": [
            "\u001b[K     |████████████████████████████████| 7.9 MB 12.2 MB/s \n",
            "\u001b[K     |████████████████████████████████| 3.5 MB 12.7 MB/s \n",
            "\u001b[?25h  Building wheel for torch-geometric (setup.py) ... \u001b[?25l\u001b[?25hdone\n",
            "Collecting pytorch_memlab\n",
            "  Downloading pytorch_memlab-0.2.4.tar.gz (93 kB)\n",
            "\u001b[K     |████████████████████████████████| 93 kB 1.6 MB/s \n",
            "\u001b[?25hRequirement already satisfied: setuptools in /usr/local/lib/python3.7/dist-packages (from pytorch_memlab) (57.4.0)\n",
            "Collecting calmsize\n",
            "  Downloading calmsize-0.1.3.tar.gz (3.7 kB)\n",
            "Requirement already satisfied: pandas>=0.18 in /usr/local/lib/python3.7/dist-packages (from pytorch_memlab) (1.3.5)\n",
            "Requirement already satisfied: torch>=1.4 in /usr/local/lib/python3.7/dist-packages (from pytorch_memlab) (1.10.0+cu111)\n",
            "Requirement already satisfied: pytz>=2017.3 in /usr/local/lib/python3.7/dist-packages (from pandas>=0.18->pytorch_memlab) (2018.9)\n",
            "Requirement already satisfied: numpy>=1.17.3 in /usr/local/lib/python3.7/dist-packages (from pandas>=0.18->pytorch_memlab) (1.21.5)\n",
            "Requirement already satisfied: python-dateutil>=2.7.3 in /usr/local/lib/python3.7/dist-packages (from pandas>=0.18->pytorch_memlab) (2.8.2)\n",
            "Requirement already satisfied: six>=1.5 in /usr/local/lib/python3.7/dist-packages (from python-dateutil>=2.7.3->pandas>=0.18->pytorch_memlab) (1.15.0)\n",
            "Requirement already satisfied: typing-extensions in /usr/local/lib/python3.7/dist-packages (from torch>=1.4->pytorch_memlab) (3.10.0.2)\n",
            "Building wheels for collected packages: pytorch-memlab, calmsize\n",
            "  Building wheel for pytorch-memlab (setup.py) ... \u001b[?25l\u001b[?25hdone\n",
            "  Created wheel for pytorch-memlab: filename=pytorch_memlab-0.2.4-py3-none-any.whl size=22855 sha256=61704369f670aaf379cd8c43d6a5f0e9349ab3666ee1216d39b186f4389eb28f\n",
            "  Stored in directory: /root/.cache/pip/wheels/bb/c4/8e/64b321e10754783fb334f883d21b651860ee0737ffdbf688c7\n",
            "  Building wheel for calmsize (setup.py) ... \u001b[?25l\u001b[?25hdone\n",
            "  Created wheel for calmsize: filename=calmsize-0.1.3-py3-none-any.whl size=2887 sha256=333beb710520aa78c87689330abc375b4ad27dbf4787819bad6eaa431bc47f91\n",
            "  Stored in directory: /root/.cache/pip/wheels/a3/92/5f/c4c4e3fa257084aecbdc44c0fe60bdef0cb870603f3642dd96\n",
            "Successfully built pytorch-memlab calmsize\n",
            "Installing collected packages: calmsize, pytorch-memlab\n",
            "Successfully installed calmsize-0.1.3 pytorch-memlab-0.2.4\n"
          ]
        }
      ]
    },
    {
      "cell_type": "markdown",
      "source": [
        "## Extracting GPU information"
      ],
      "metadata": {
        "id": "jTAl2GMfL6ZA"
      }
    },
    {
      "cell_type": "code",
      "source": [
        "!nvidia-smi -L"
      ],
      "metadata": {
        "colab": {
          "base_uri": "https://localhost:8080/"
        },
        "id": "JEkhbz6CEajN",
        "outputId": "55fe89bc-8a6c-49cf-8f8d-ccc122ba6433"
      },
      "execution_count": 2,
      "outputs": [
        {
          "output_type": "stream",
          "name": "stdout",
          "text": [
            "GPU 0: Tesla K80 (UUID: GPU-31900078-538b-9f50-c45a-01c14b7e9200)\n"
          ]
        }
      ]
    },
    {
      "cell_type": "code",
      "source": [
        "!nvidia-smi"
      ],
      "metadata": {
        "colab": {
          "base_uri": "https://localhost:8080/"
        },
        "id": "qgOwl__1EnIC",
        "outputId": "0b923fad-0e92-49cb-b0ca-35d060f1bd24"
      },
      "execution_count": 3,
      "outputs": [
        {
          "output_type": "stream",
          "name": "stdout",
          "text": [
            "Mon Mar 14 21:09:37 2022       \n",
            "+-----------------------------------------------------------------------------+\n",
            "| NVIDIA-SMI 460.32.03    Driver Version: 460.32.03    CUDA Version: 11.2     |\n",
            "|-------------------------------+----------------------+----------------------+\n",
            "| GPU  Name        Persistence-M| Bus-Id        Disp.A | Volatile Uncorr. ECC |\n",
            "| Fan  Temp  Perf  Pwr:Usage/Cap|         Memory-Usage | GPU-Util  Compute M. |\n",
            "|                               |                      |               MIG M. |\n",
            "|===============================+======================+======================|\n",
            "|   0  Tesla K80           Off  | 00000000:00:04.0 Off |                    0 |\n",
            "| N/A   69C    P8    34W / 149W |      3MiB / 11441MiB |      0%      Default |\n",
            "|                               |                      |                  N/A |\n",
            "+-------------------------------+----------------------+----------------------+\n",
            "                                                                               \n",
            "+-----------------------------------------------------------------------------+\n",
            "| Processes:                                                                  |\n",
            "|  GPU   GI   CI        PID   Type   Process name                  GPU Memory |\n",
            "|        ID   ID                                                   Usage      |\n",
            "|=============================================================================|\n",
            "|  No running processes found                                                 |\n",
            "+-----------------------------------------------------------------------------+\n"
          ]
        }
      ]
    },
    {
      "cell_type": "code",
      "source": [
        "!nvcc --version"
      ],
      "metadata": {
        "colab": {
          "base_uri": "https://localhost:8080/"
        },
        "id": "lQU2Es-jq712",
        "outputId": "fa43e65b-b38d-4ea7-f8c4-aecfacabe540"
      },
      "execution_count": 1,
      "outputs": [
        {
          "output_type": "stream",
          "name": "stdout",
          "text": [
            "nvcc: NVIDIA (R) Cuda compiler driver\n",
            "Copyright (c) 2005-2020 NVIDIA Corporation\n",
            "Built on Mon_Oct_12_20:09:46_PDT_2020\n",
            "Cuda compilation tools, release 11.1, V11.1.105\n",
            "Build cuda_11.1.TC455_06.29190527_0\n"
          ]
        }
      ]
    },
    {
      "cell_type": "markdown",
      "source": [
        "## Setting up functions regarding dataset and model statistics "
      ],
      "metadata": {
        "id": "xjGG4R4HL901"
      }
    },
    {
      "cell_type": "code",
      "source": [
        "def get_dataset_stats(dataset):\n",
        "  data = dataset[0]  # Get the first graph object.\n",
        "\n",
        "  print(\"Dataset STATS\", data)\n",
        "  print('==============================================================')\n",
        "\n",
        "  # Gather some statistics about the graph.\n",
        "  print(f'Number of nodes: {data.num_nodes}')\n",
        "  print(f'Number of edges: {data.num_edges}')\n",
        "  print(f'Average node degree: {data.num_edges / data.num_nodes:.2f}')\n",
        "  print(f'Number of training nodes: {data.train_mask.sum()}')\n",
        "  print(f'Training node label rate: {int(data.train_mask.sum()) / data.num_nodes:.2f}')\n",
        "  print(f'Has isolated nodes: {data.has_isolated_nodes()}')\n",
        "  print(f'Has self-loops: {data.has_self_loops()}')\n",
        "  print(f'Is undirected: {data.is_undirected()}')\n",
        "\n",
        "get_dataset_stats(Planetoid(\"Planetoid\", name=\"Cora\"))"
      ],
      "metadata": {
        "colab": {
          "base_uri": "https://localhost:8080/"
        },
        "id": "MURO4UveBwyv",
        "outputId": "9ab926b9-a560-435a-e384-d639520e10d4"
      },
      "execution_count": 4,
      "outputs": [
        {
          "output_type": "stream",
          "name": "stderr",
          "text": [
            "Downloading https://github.com/kimiyoung/planetoid/raw/master/data/ind.cora.x\n",
            "Downloading https://github.com/kimiyoung/planetoid/raw/master/data/ind.cora.tx\n",
            "Downloading https://github.com/kimiyoung/planetoid/raw/master/data/ind.cora.allx\n",
            "Downloading https://github.com/kimiyoung/planetoid/raw/master/data/ind.cora.y\n",
            "Downloading https://github.com/kimiyoung/planetoid/raw/master/data/ind.cora.ty\n",
            "Downloading https://github.com/kimiyoung/planetoid/raw/master/data/ind.cora.ally\n",
            "Downloading https://github.com/kimiyoung/planetoid/raw/master/data/ind.cora.graph\n",
            "Downloading https://github.com/kimiyoung/planetoid/raw/master/data/ind.cora.test.index\n"
          ]
        },
        {
          "output_type": "stream",
          "name": "stdout",
          "text": [
            "Dataset STATS Data(x=[2708, 1433], edge_index=[2, 10556], y=[2708], train_mask=[2708], val_mask=[2708], test_mask=[2708])\n",
            "==============================================================\n",
            "Number of nodes: 2708\n",
            "Number of edges: 10556\n",
            "Average node degree: 3.90\n",
            "Number of training nodes: 140\n",
            "Training node label rate: 0.05\n",
            "Has isolated nodes: False\n",
            "Has self-loops: False\n",
            "Is undirected: True\n"
          ]
        },
        {
          "output_type": "stream",
          "name": "stderr",
          "text": [
            "Processing...\n",
            "Done!\n"
          ]
        }
      ]
    },
    {
      "cell_type": "code",
      "source": [
        "get_dataset_stats(Planetoid(\"Planetoid\", name=\"Cora\", transform=T.ToSparseTensor()))"
      ],
      "metadata": {
        "colab": {
          "base_uri": "https://localhost:8080/"
        },
        "id": "stcDitOXDOYq",
        "outputId": "12b3c15f-6865-4864-cf39-2cbb6aff1e5e"
      },
      "execution_count": 5,
      "outputs": [
        {
          "output_type": "stream",
          "name": "stdout",
          "text": [
            "Dataset STATS Data(x=[2708, 1433], y=[2708], train_mask=[2708], val_mask=[2708], test_mask=[2708], adj_t=[2708, 2708, nnz=10556])\n",
            "==============================================================\n",
            "Number of nodes: 2708\n",
            "Number of edges: 10556\n",
            "Average node degree: 3.90\n",
            "Number of training nodes: 140\n",
            "Training node label rate: 0.05\n",
            "Has isolated nodes: False\n",
            "Has self-loops: False\n",
            "Is undirected: True\n"
          ]
        }
      ]
    },
    {
      "cell_type": "code",
      "source": [
        "def get_info(model, data):\n",
        "  # https://pytorch-geometric.readthedocs.io/en/latest/modules/profile.html?highlight=profileit#torch_geometric.profile.get_cpu_memory_from_gc\n",
        "  print(\"MODEL INFO\", model, data)\n",
        "  print(\"trainable parameters count\", count_parameters(model))\n",
        "  print(\"model size in bytes\", get_model_size(model))\n",
        "  print(\"Data theoretical memory usage in bytes\", get_data_size(data))\n",
        "  print(\"CPU memory\", get_cpu_memory_from_gc())\n",
        "  print(\"GPU memory\", get_gpu_memory_from_gc(0))\n",
        "  print(\"nvidia-smi free and used GPU memory\", get_gpu_memory_from_nvidia_smi())"
      ],
      "metadata": {
        "id": "UBsu69cbDyYg"
      },
      "execution_count": 6,
      "outputs": []
    },
    {
      "cell_type": "markdown",
      "source": [
        "## Setting up the original model (without SparseTensor)"
      ],
      "metadata": {
        "id": "mCHzXWnTMb6R"
      }
    },
    {
      "cell_type": "code",
      "source": [
        "def run_original(dataset):\n",
        "  class GNN(torch.nn.Module):\n",
        "    def __init__(self):\n",
        "        super().__init__()\n",
        "        self.conv1 = GCNConv(dataset.num_features, 16, cached=True)\n",
        "        self.conv2 = GCNConv(16, dataset.num_classes, cached=True)\n",
        "\n",
        "    def forward(self, x, adj_t):\n",
        "        x = self.conv1(x, adj_t)\n",
        "        x = F.relu(x)\n",
        "        x = self.conv2(x, adj_t)\n",
        "        return F.log_softmax(x, dim=1)\n",
        "\n",
        "  #dataset = Planetoid(\"Planetoid\", name=\"Cora\")#, transform=T.ToSparseTensor())\n",
        "  data = dataset[0]\n",
        "\n",
        "  model = GNN()\n",
        "  optimizer = torch.optim.Adam(model.parameters(), lr=0.01)\n",
        "\n",
        "  print(\"RUNNING ORIGINAL\")\n",
        "  #get_dataset_stats(dataset)\n",
        "  get_info(model, data)\n",
        "\n",
        "  @profileit()\n",
        "  def train(model, data):\n",
        "      model.train()\n",
        "      optimizer.zero_grad()\n",
        "      out = model(data.x, data.edge_index)#adj_t)\n",
        "      loss = F.nll_loss(out, data.y)\n",
        "      loss.backward()\n",
        "      optimizer.step()\n",
        "      return float(loss)\n",
        "\n",
        "  all_stats = []\n",
        "  for epoch in range(1, 201):\n",
        "      loss, stats = train(model, data)\n",
        "      #print(stats)\n",
        "      all_stats.append(stats)\n",
        "  return all_stats"
      ],
      "metadata": {
        "id": "zgXIC1s-_PQw"
      },
      "execution_count": 7,
      "outputs": []
    },
    {
      "cell_type": "markdown",
      "source": [
        "## Using SparseTensor"
      ],
      "metadata": {
        "id": "KLEsmV36lMyo"
      }
    },
    {
      "cell_type": "code",
      "source": [
        "def run_sparsetensor(dataset2):\n",
        "  class GNN(torch.nn.Module):\n",
        "    def __init__(self):\n",
        "        super().__init__()\n",
        "        self.conv1 = GCNConv(dataset2.num_features, 16, cached=True)\n",
        "        self.conv2 = GCNConv(16, dataset2.num_classes, cached=True)\n",
        "\n",
        "    def forward(self, x, adj_t):\n",
        "        x = self.conv1(x, adj_t)\n",
        "        x = F.relu(x)\n",
        "        x = self.conv2(x, adj_t)\n",
        "        return F.log_softmax(x, dim=1)\n",
        "\n",
        "  #dataset2 = Planetoid(\"Planetoid\", name=\"Cora\", transform=T.ToSparseTensor())\n",
        "  data2 = dataset2[0]\n",
        "\n",
        "  model2 = GNN()\n",
        "  optimizer = torch.optim.Adam(model2.parameters(), lr=0.01)\n",
        "\n",
        "  print(\"RUNNING SPARSETENSOR\")\n",
        "  #get_dataset_stats(dataset2)\n",
        "  get_info(model2, data2)\n",
        "\n",
        "  @profileit()\n",
        "  def train(model, data):\n",
        "      model.train()\n",
        "      optimizer.zero_grad()\n",
        "      out = model(data.x, data.adj_t)\n",
        "      loss = F.nll_loss(out, data.y)\n",
        "      loss.backward()\n",
        "      optimizer.step()\n",
        "      return float(loss)\n",
        "\n",
        "  all_stats = []\n",
        "  for epoch in range(1, 201):\n",
        "      loss, stats = train(model2, data2)\n",
        "      #print(stats)\n",
        "      all_stats.append(stats)\n",
        "  return (all_stats)"
      ],
      "metadata": {
        "id": "mMJsVVT2BUfh"
      },
      "execution_count": 8,
      "outputs": []
    },
    {
      "cell_type": "code",
      "source": [
        "def run_all(name, dataset1, dataset2):\n",
        "\n",
        "  print(\"DATASET STATS OF ORIGINAL\")\n",
        "  get_dataset_stats(dataset1)\n",
        "  print()\n",
        "  print(\"DATASET STATS OF SPARSETENSOR\")\n",
        "  get_dataset_stats(dataset2)\n",
        "\n",
        "  all_stats1 = run_original(dataset1)\n",
        "  stats1_sum = get_stats_summary(all_stats1)\n",
        "  print(\"STATS_SUM1\", stats1_sum)\n",
        "  times1 = [all_stats1[i].time for i in range(len(all_stats1))]\n",
        "\n",
        "  all_stats2 = run_sparsetensor(dataset2)\n",
        "  stats2_sum = get_stats_summary(all_stats2)\n",
        "  print(\"STATS_SUM2\", stats2_sum)\n",
        "  times2 = [all_stats2[i].time for i in range(len(all_stats2))]\n",
        "  print(\"SPEEDUP of\", stats1_sum.time_mean/stats2_sum.time_mean)\n",
        "  plt.title(name)\n",
        "  plt.plot(range(1, len(times1)), times1[1:])\n",
        "  plt.plot(range(1, len(times2)), times2[1:])\n",
        "  plt.axhline(y=stats1_sum.time_mean, color='g', linestyle='-')\n",
        "  plt.axhline(y=stats2_sum.time_mean, color='r', linestyle='-')\n",
        "  plt.legend([\"Original\", \"with SparseTensor\"])\n",
        "  plt.xlabel(\"Training iteration\")\n",
        "  plt.ylabel(\"Time (s)\")\n",
        "  plt.savefig(f'{name}.png', bbox_inches='tight')\n",
        "  plt.plot()"
      ],
      "metadata": {
        "id": "E7zodlIOEW2P"
      },
      "execution_count": 9,
      "outputs": []
    },
    {
      "cell_type": "markdown",
      "source": [
        "## Running the full experiments"
      ],
      "metadata": {
        "id": "Mc5F8dqRSNzq"
      }
    },
    {
      "cell_type": "code",
      "source": [
        "run_all(\"KarateClub\", KarateClub(), KarateClub(transform=T.ToSparseTensor()))"
      ],
      "metadata": {
        "colab": {
          "base_uri": "https://localhost:8080/",
          "height": 1000
        },
        "id": "z1q1NmZCxAyG",
        "outputId": "f2d6791f-4e14-4c17-b801-2d68bb1e6f92"
      },
      "execution_count": 10,
      "outputs": [
        {
          "output_type": "stream",
          "name": "stdout",
          "text": [
            "DATASET STATS OF ORIGINAL\n",
            "Dataset STATS Data(x=[34, 34], edge_index=[2, 156], y=[34], train_mask=[34])\n",
            "==============================================================\n",
            "Number of nodes: 34\n",
            "Number of edges: 156\n",
            "Average node degree: 4.59\n",
            "Number of training nodes: 4\n",
            "Training node label rate: 0.12\n",
            "Has isolated nodes: False\n",
            "Has self-loops: False\n",
            "Is undirected: True\n",
            "\n",
            "DATASET STATS OF SPARSETENSOR\n",
            "Dataset STATS Data(x=[34, 34], y=[34], train_mask=[34], adj_t=[34, 34, nnz=156])\n",
            "==============================================================\n",
            "Number of nodes: 34\n",
            "Number of edges: 156\n",
            "Average node degree: 4.59\n",
            "Number of training nodes: 4\n",
            "Training node label rate: 0.12\n",
            "Has isolated nodes: False\n",
            "Has self-loops: False\n",
            "Is undirected: True\n",
            "RUNNING ORIGINAL\n",
            "MODEL INFO GNN(\n",
            "  (conv1): GCNConv(34, 16)\n",
            "  (conv2): GCNConv(16, 4)\n",
            ") Data(x=[34, 34], edge_index=[2, 156], y=[34], train_mask=[34])\n",
            "trainable parameters count 628\n",
            "model size in bytes 4063\n",
            "Data theoretical memory usage in bytes 7426\n",
            "CPU memory 17440\n",
            "GPU memory 0\n",
            "nvidia-smi free and used GPU memory (11992.74, 3.15)\n"
          ]
        },
        {
          "output_type": "stream",
          "name": "stderr",
          "text": [
            "/usr/local/lib/python3.7/dist-packages/torch/distributed/distributed_c10d.py:171: UserWarning: torch.distributed.reduce_op is deprecated, please use torch.distributed.ReduceOp instead\n",
            "  \"torch.distributed.reduce_op is deprecated, please use \"\n",
            "\n",
            "PYDEV DEBUGGER WARNING:\n",
            "sys.settrace() should not be used when the debugger is being used.\n",
            "This may cause the debugger to stop working correctly.\n",
            "If this is needed, please check: \n",
            "http://pydev.blogspot.com/2007/06/why-cant-pydev-debugger-work-with.html\n",
            "to see how to restore the debug tracing back correctly.\n",
            "Call Location:\n",
            "  File \"/usr/local/lib/python3.7/dist-packages/pytorch_memlab/line_profiler/line_profiler.py\", line 81, in register_callback\n",
            "    sys.settrace(self._trace_callback)\n",
            "\n",
            "\n",
            "PYDEV DEBUGGER WARNING:\n",
            "sys.settrace() should not be used when the debugger is being used.\n",
            "This may cause the debugger to stop working correctly.\n",
            "If this is needed, please check: \n",
            "http://pydev.blogspot.com/2007/06/why-cant-pydev-debugger-work-with.html\n",
            "to see how to restore the debug tracing back correctly.\n",
            "Call Location:\n",
            "  File \"/usr/local/lib/python3.7/dist-packages/pytorch_memlab/line_profiler/line_profiler.py\", line 100, in disable\n",
            "    sys.settrace(None)\n",
            "\n"
          ]
        },
        {
          "output_type": "stream",
          "name": "stdout",
          "text": [
            "STATS_SUM1 StatsSummary(time_mean=0.006667777430266142, time_std=0.004790047183632851, max_allocated_cuda=0.0, max_reserved_cuda=0.0, max_active_cuda=0.0, min_nvidia_smi_free_cuda=11451.72, max_nvidia_smi_used_cuda=544.17)\n",
            "RUNNING SPARSETENSOR\n",
            "MODEL INFO GNN(\n",
            "  (conv1): GCNConv(34, 16)\n",
            "  (conv2): GCNConv(16, 4)\n",
            ") Data(x=[34, 34], y=[34], train_mask=[34], adj_t=[34, 34, nnz=156])\n",
            "trainable parameters count 628\n",
            "model size in bytes 4063\n",
            "Data theoretical memory usage in bytes 6458\n",
            "CPU memory 41608\n",
            "GPU memory 0\n"
          ]
        },
        {
          "output_type": "stream",
          "name": "stderr",
          "text": [
            "/usr/local/lib/python3.7/dist-packages/torch/distributed/distributed_c10d.py:171: UserWarning: torch.distributed.reduce_op is deprecated, please use torch.distributed.ReduceOp instead\n",
            "  \"torch.distributed.reduce_op is deprecated, please use \"\n"
          ]
        },
        {
          "output_type": "stream",
          "name": "stdout",
          "text": [
            "nvidia-smi free and used GPU memory (11451.72, 544.17)\n",
            "STATS_SUM2 StatsSummary(time_mean=0.005908755119889975, time_std=0.002533168299123645, max_allocated_cuda=0.0, max_reserved_cuda=0.0, max_active_cuda=0.0, min_nvidia_smi_free_cuda=11451.72, max_nvidia_smi_used_cuda=544.17)\n",
            "SPEEDUP of 1.1284572291414068\n"
          ]
        },
        {
          "output_type": "display_data",
          "data": {
            "text/plain": [
              "<Figure size 432x288 with 1 Axes>"
            ],
            "image/png": "[encoded data removed]"
          },
          "metadata": {
            "needs_background": "light"
          }
        }
      ]
    },
    {
      "cell_type": "code",
      "source": [
        "run_all(\"Planetoid-Cora\", Planetoid(\"Planetoid\", name=\"Cora\"), Planetoid(\"Planetoid\", name=\"Cora\", transform=T.ToSparseTensor()))"
      ],
      "metadata": {
        "colab": {
          "base_uri": "https://localhost:8080/",
          "height": 1000
        },
        "id": "C31cMit6PxPA",
        "outputId": "673be5db-bff5-4611-9391-655e617eaf3d"
      },
      "execution_count": 11,
      "outputs": [
        {
          "output_type": "stream",
          "name": "stdout",
          "text": [
            "DATASET STATS OF ORIGINAL\n",
            "Dataset STATS Data(x=[2708, 1433], edge_index=[2, 10556], y=[2708], train_mask=[2708], val_mask=[2708], test_mask=[2708])\n",
            "==============================================================\n",
            "Number of nodes: 2708\n",
            "Number of edges: 10556\n",
            "Average node degree: 3.90\n",
            "Number of training nodes: 140\n",
            "Training node label rate: 0.05\n",
            "Has isolated nodes: False\n",
            "Has self-loops: False\n",
            "Is undirected: True\n",
            "\n",
            "DATASET STATS OF SPARSETENSOR\n",
            "Dataset STATS Data(x=[2708, 1433], y=[2708], train_mask=[2708], val_mask=[2708], test_mask=[2708], adj_t=[2708, 2708, nnz=10556])\n",
            "==============================================================\n",
            "Number of nodes: 2708\n",
            "Number of edges: 10556\n",
            "Average node degree: 3.90\n",
            "Number of training nodes: 140\n",
            "Training node label rate: 0.05\n",
            "Has isolated nodes: False\n",
            "Has self-loops: False\n",
            "Is undirected: True\n",
            "RUNNING ORIGINAL\n",
            "MODEL INFO GNN(\n",
            "  (conv1): GCNConv(1433, 16)\n",
            "  (conv2): GCNConv(16, 7)\n",
            ") Data(x=[2708, 1433], edge_index=[2, 10556], y=[2708], train_mask=[2708], val_mask=[2708], test_mask=[2708])\n",
            "trainable parameters count 23063\n",
            "model size in bytes 93791\n",
            "Data theoretical memory usage in bytes 15720940\n",
            "CPU memory 31578468\n",
            "GPU memory 0\n"
          ]
        },
        {
          "output_type": "stream",
          "name": "stderr",
          "text": [
            "/usr/local/lib/python3.7/dist-packages/torch/distributed/distributed_c10d.py:171: UserWarning: torch.distributed.reduce_op is deprecated, please use torch.distributed.ReduceOp instead\n",
            "  \"torch.distributed.reduce_op is deprecated, please use \"\n"
          ]
        },
        {
          "output_type": "stream",
          "name": "stdout",
          "text": [
            "nvidia-smi free and used GPU memory (11451.72, 544.17)\n",
            "STATS_SUM1 StatsSummary(time_mean=0.020521488040685654, time_std=0.004157674964517355, max_allocated_cuda=0.0, max_reserved_cuda=0.0, max_active_cuda=0.0, min_nvidia_smi_free_cuda=11451.72, max_nvidia_smi_used_cuda=544.17)\n",
            "RUNNING SPARSETENSOR\n",
            "MODEL INFO GNN(\n",
            "  (conv1): GCNConv(1433, 16)\n",
            "  (conv2): GCNConv(16, 7)\n",
            ") Data(x=[2708, 1433], y=[2708], train_mask=[2708], val_mask=[2708], test_mask=[2708], adj_t=[2708, 2708, nnz=10556])\n",
            "trainable parameters count 23063\n",
            "model size in bytes 93791\n",
            "Data theoretical memory usage in bytes 15658164\n",
            "CPU memory 32921948\n",
            "GPU memory 0\n"
          ]
        },
        {
          "output_type": "stream",
          "name": "stderr",
          "text": [
            "/usr/local/lib/python3.7/dist-packages/torch/distributed/distributed_c10d.py:171: UserWarning: torch.distributed.reduce_op is deprecated, please use torch.distributed.ReduceOp instead\n",
            "  \"torch.distributed.reduce_op is deprecated, please use \"\n"
          ]
        },
        {
          "output_type": "stream",
          "name": "stdout",
          "text": [
            "nvidia-smi free and used GPU memory (11451.72, 544.17)\n",
            "STATS_SUM2 StatsSummary(time_mean=0.014864559285342693, time_std=0.004878064151853323, max_allocated_cuda=0.0, max_reserved_cuda=0.0, max_active_cuda=0.0, min_nvidia_smi_free_cuda=11451.72, max_nvidia_smi_used_cuda=544.17)\n",
            "SPEEDUP of 1.3805648486949098\n"
          ]
        },
        {
          "output_type": "display_data",
          "data": {
            "text/plain": [
              "<Figure size 432x288 with 1 Axes>"
            ],
            "image/png": "[encoded data removed]"
          },
          "metadata": {
            "needs_background": "light"
          }
        }
      ]
    },
    {
      "cell_type": "code",
      "source": [
        "run_all(\"Planetoid-CiteSeer\", Planetoid(\"Planetoid\", name=\"CiteSeer\"), Planetoid(\"Planetoid\", name=\"CiteSeer\", transform=T.ToSparseTensor()))"
      ],
      "metadata": {
        "colab": {
          "base_uri": "https://localhost:8080/",
          "height": 1000
        },
        "id": "0TITuzUOgp8n",
        "outputId": "b89ee0f3-17fc-47ca-a09f-8f0481b6707c"
      },
      "execution_count": 20,
      "outputs": [
        {
          "output_type": "stream",
          "name": "stderr",
          "text": [
            "Downloading https://github.com/kimiyoung/planetoid/raw/master/data/ind.citeseer.x\n",
            "Downloading https://github.com/kimiyoung/planetoid/raw/master/data/ind.citeseer.tx\n",
            "Downloading https://github.com/kimiyoung/planetoid/raw/master/data/ind.citeseer.allx\n",
            "Downloading https://github.com/kimiyoung/planetoid/raw/master/data/ind.citeseer.y\n",
            "Downloading https://github.com/kimiyoung/planetoid/raw/master/data/ind.citeseer.ty\n",
            "Downloading https://github.com/kimiyoung/planetoid/raw/master/data/ind.citeseer.ally\n",
            "Downloading https://github.com/kimiyoung/planetoid/raw/master/data/ind.citeseer.graph\n",
            "Downloading https://github.com/kimiyoung/planetoid/raw/master/data/ind.citeseer.test.index\n",
            "Processing...\n",
            "Done!\n"
          ]
        },
        {
          "output_type": "stream",
          "name": "stdout",
          "text": [
            "DATASET STATS OF ORIGINAL\n",
            "Dataset STATS Data(x=[3327, 3703], edge_index=[2, 9104], y=[3327], train_mask=[3327], val_mask=[3327], test_mask=[3327])\n",
            "==============================================================\n",
            "Number of nodes: 3327\n",
            "Number of edges: 9104\n",
            "Average node degree: 2.74\n",
            "Number of training nodes: 120\n",
            "Training node label rate: 0.04\n",
            "Has isolated nodes: True\n",
            "Has self-loops: False\n",
            "Is undirected: True\n",
            "\n",
            "DATASET STATS OF SPARSETENSOR\n",
            "Dataset STATS Data(x=[3327, 3703], y=[3327], train_mask=[3327], val_mask=[3327], test_mask=[3327], adj_t=[3327, 3327, nnz=9104])\n",
            "==============================================================\n",
            "Number of nodes: 3327\n",
            "Number of edges: 9104\n",
            "Average node degree: 2.74\n",
            "Number of training nodes: 120\n",
            "Training node label rate: 0.04\n",
            "Has isolated nodes: True\n",
            "Has self-loops: False\n",
            "Is undirected: True\n",
            "RUNNING ORIGINAL\n",
            "MODEL INFO GNN(\n",
            "  (conv1): GCNConv(3703, 16)\n",
            "  (conv2): GCNConv(16, 6)\n",
            ") Data(x=[3327, 3703], edge_index=[2, 9104], y=[3327], train_mask=[3327], val_mask=[3327], test_mask=[3327])\n",
            "trainable parameters count 59366\n",
            "model size in bytes 239007\n",
            "Data theoretical memory usage in bytes 49461785\n",
            "CPU memory 2951134466\n",
            "GPU memory 0\n"
          ]
        },
        {
          "output_type": "stream",
          "name": "stderr",
          "text": [
            "/usr/local/lib/python3.7/dist-packages/torch/distributed/distributed_c10d.py:171: UserWarning: torch.distributed.reduce_op is deprecated, please use torch.distributed.ReduceOp instead\n",
            "  \"torch.distributed.reduce_op is deprecated, please use \"\n"
          ]
        },
        {
          "output_type": "stream",
          "name": "stdout",
          "text": [
            "nvidia-smi free and used GPU memory (11451.72, 544.17)\n",
            "STATS_SUM1 StatsSummary(time_mean=0.03691159188747406, time_std=0.003045860445126891, max_allocated_cuda=0.0, max_reserved_cuda=0.0, max_active_cuda=0.0, min_nvidia_smi_free_cuda=11451.72, max_nvidia_smi_used_cuda=544.17)\n",
            "RUNNING SPARSETENSOR\n",
            "MODEL INFO GNN(\n",
            "  (conv1): GCNConv(3703, 16)\n",
            "  (conv2): GCNConv(16, 6)\n",
            ") Data(x=[3327, 3703], y=[3327], train_mask=[3327], val_mask=[3327], test_mask=[3327], adj_t=[3327, 3327, nnz=9104])\n",
            "trainable parameters count 59366\n",
            "model size in bytes 239007\n",
            "Data theoretical memory usage in bytes 49415577\n",
            "CPU memory 2952972346\n",
            "GPU memory 0\n"
          ]
        },
        {
          "output_type": "stream",
          "name": "stderr",
          "text": [
            "/usr/local/lib/python3.7/dist-packages/torch/distributed/distributed_c10d.py:171: UserWarning: torch.distributed.reduce_op is deprecated, please use torch.distributed.ReduceOp instead\n",
            "  \"torch.distributed.reduce_op is deprecated, please use \"\n"
          ]
        },
        {
          "output_type": "stream",
          "name": "stdout",
          "text": [
            "nvidia-smi free and used GPU memory (11451.72, 544.17)\n",
            "STATS_SUM2 StatsSummary(time_mean=0.0321902334690094, time_std=0.007021497935056686, max_allocated_cuda=0.0, max_reserved_cuda=0.0, max_active_cuda=0.0, min_nvidia_smi_free_cuda=11451.72, max_nvidia_smi_used_cuda=544.17)\n",
            "SPEEDUP of 1.1466705242448791\n"
          ]
        },
        {
          "output_type": "display_data",
          "data": {
            "text/plain": [
              "<Figure size 432x288 with 1 Axes>"
            ],
            "image/png": "[encoded data removed]"
          },
          "metadata": {
            "needs_background": "light"
          }
        }
      ]
    },
    {
      "cell_type": "code",
      "source": [
        "run_all(\"Planetoid-PubMed\", Planetoid(\"Planetoid\", name=\"PubMed\"), Planetoid(\"Planetoid\", name=\"PubMed\", transform=T.ToSparseTensor()))"
      ],
      "metadata": {
        "colab": {
          "base_uri": "https://localhost:8080/",
          "height": 1000
        },
        "id": "fZxIDT0oRwng",
        "outputId": "1fc765f0-c00b-4467-f66c-27073ace08a2"
      },
      "execution_count": 21,
      "outputs": [
        {
          "output_type": "stream",
          "name": "stderr",
          "text": [
            "Downloading https://github.com/kimiyoung/planetoid/raw/master/data/ind.pubmed.x\n",
            "Downloading https://github.com/kimiyoung/planetoid/raw/master/data/ind.pubmed.tx\n",
            "Downloading https://github.com/kimiyoung/planetoid/raw/master/data/ind.pubmed.allx\n",
            "Downloading https://github.com/kimiyoung/planetoid/raw/master/data/ind.pubmed.y\n",
            "Downloading https://github.com/kimiyoung/planetoid/raw/master/data/ind.pubmed.ty\n",
            "Downloading https://github.com/kimiyoung/planetoid/raw/master/data/ind.pubmed.ally\n",
            "Downloading https://github.com/kimiyoung/planetoid/raw/master/data/ind.pubmed.graph\n",
            "Downloading https://github.com/kimiyoung/planetoid/raw/master/data/ind.pubmed.test.index\n",
            "Processing...\n",
            "Done!\n",
            "/usr/local/lib/python3.7/dist-packages/torch/distributed/distributed_c10d.py:171: UserWarning: torch.distributed.reduce_op is deprecated, please use torch.distributed.ReduceOp instead\n",
            "  \"torch.distributed.reduce_op is deprecated, please use \"\n"
          ]
        },
        {
          "output_type": "stream",
          "name": "stdout",
          "text": [
            "DATASET STATS OF ORIGINAL\n",
            "Dataset STATS Data(x=[19717, 500], edge_index=[2, 88648], y=[19717], train_mask=[19717], val_mask=[19717], test_mask=[19717])\n",
            "==============================================================\n",
            "Number of nodes: 19717\n",
            "Number of edges: 88648\n",
            "Average node degree: 4.50\n",
            "Number of training nodes: 60\n",
            "Training node label rate: 0.00\n",
            "Has isolated nodes: False\n",
            "Has self-loops: False\n",
            "Is undirected: True\n",
            "\n",
            "DATASET STATS OF SPARSETENSOR\n",
            "Dataset STATS Data(x=[19717, 500], y=[19717], train_mask=[19717], val_mask=[19717], test_mask=[19717], adj_t=[19717, 19717, nnz=88648])\n",
            "==============================================================\n",
            "Number of nodes: 19717\n",
            "Number of edges: 88648\n",
            "Average node degree: 4.50\n",
            "Number of training nodes: 60\n",
            "Training node label rate: 0.00\n",
            "Has isolated nodes: False\n",
            "Has self-loops: False\n",
            "Is undirected: True\n",
            "RUNNING ORIGINAL\n",
            "MODEL INFO GNN(\n",
            "  (conv1): GCNConv(500, 16)\n",
            "  (conv2): GCNConv(16, 3)\n",
            ") Data(x=[19717, 500], edge_index=[2, 88648], y=[19717], train_mask=[19717], val_mask=[19717], test_mask=[19717])\n",
            "trainable parameters count 8067\n",
            "model size in bytes 33823\n",
            "Data theoretical memory usage in bytes 41069255\n",
            "CPU memory 1465722726\n",
            "GPU memory 0\n",
            "nvidia-smi free and used GPU memory (11451.72, 544.17)\n",
            "STATS_SUM1 StatsSummary(time_mean=0.08598771691322327, time_std=0.004393680486828089, max_allocated_cuda=0.0, max_reserved_cuda=0.0, max_active_cuda=0.0, min_nvidia_smi_free_cuda=11451.72, max_nvidia_smi_used_cuda=544.17)\n",
            "RUNNING SPARSETENSOR\n",
            "MODEL INFO GNN(\n",
            "  (conv1): GCNConv(500, 16)\n",
            "  (conv2): GCNConv(16, 3)\n",
            ") Data(x=[19717, 500], y=[19717], train_mask=[19717], val_mask=[19717], test_mask=[19717], adj_t=[19717, 19717, nnz=88648])\n",
            "trainable parameters count 8067\n",
            "model size in bytes 33823\n",
            "Data theoretical memory usage in bytes 40517815\n",
            "CPU memory 1473890062\n",
            "GPU memory 0\n"
          ]
        },
        {
          "output_type": "stream",
          "name": "stderr",
          "text": [
            "/usr/local/lib/python3.7/dist-packages/torch/distributed/distributed_c10d.py:171: UserWarning: torch.distributed.reduce_op is deprecated, please use torch.distributed.ReduceOp instead\n",
            "  \"torch.distributed.reduce_op is deprecated, please use \"\n"
          ]
        },
        {
          "output_type": "stream",
          "name": "stdout",
          "text": [
            "nvidia-smi free and used GPU memory (11451.72, 544.17)\n",
            "STATS_SUM2 StatsSummary(time_mean=0.04571344330906868, time_std=0.006037483923137188, max_allocated_cuda=0.0, max_reserved_cuda=0.0, max_active_cuda=0.0, min_nvidia_smi_free_cuda=11451.72, max_nvidia_smi_used_cuda=544.17)\n",
            "SPEEDUP of 1.8810159701132148\n"
          ]
        },
        {
          "output_type": "display_data",
          "data": {
            "text/plain": [
              "<Figure size 432x288 with 1 Axes>"
            ],
            "image/png": "[encoded data removed]"
          },
          "metadata": {
            "needs_background": "light"
          }
        }
      ]
    },
    {
      "cell_type": "code",
      "source": [
        ""
      ],
      "metadata": {
        "id": "KEZr_qc2SliS"
      },
      "execution_count": null,
      "outputs": []
    }
  ]
}